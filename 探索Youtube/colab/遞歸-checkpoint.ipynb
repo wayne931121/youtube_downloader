{
 "cells": [
  {
   "cell_type": "code",
   "execution_count": 2,
   "id": "71f389be",
   "metadata": {},
   "outputs": [
    {
     "data": {
      "text/plain": [
       "(2,\n",
       " [(1, (None, None)),\n",
       "  (0, (None, None)),\n",
       "  (1, (0, -1)),\n",
       "  (1, (None, None)),\n",
       "  (2, (1, 0))])"
      ]
     },
     "execution_count": 2,
     "metadata": {},
     "output_type": "execute_result"
    }
   ],
   "source": [
    "def fib(n, table=[]):\n",
    "    if n<2:\n",
    "        table.append((n, (None, None)))\n",
    "    else:\n",
    "        n = fib(n - 1, table)[0] + fib(n - 2, table)[0]\n",
    "        table.append((n, (n-1, n-2)))\n",
    "    return n, table\n",
    "fib(3)"
   ]
  }
 ],
 "metadata": {
  "kernelspec": {
   "display_name": "Python 3 (ipykernel)",
   "language": "python",
   "name": "python3"
  },
  "language_info": {
   "codemirror_mode": {
    "name": "ipython",
    "version": 3
   },
   "file_extension": ".py",
   "mimetype": "text/x-python",
   "name": "python",
   "nbconvert_exporter": "python",
   "pygments_lexer": "ipython3",
   "version": "3.9.13"
  }
 },
 "nbformat": 4,
 "nbformat_minor": 5
}
